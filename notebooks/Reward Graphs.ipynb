{
 "cells": [
  {
   "cell_type": "code",
   "execution_count": 1,
   "id": "4b2bc7e7",
   "metadata": {},
   "outputs": [],
   "source": [
    "from math import exp\n",
    "from matplotlib import pyplot\n",
    " \n",
    "# sigmoid activation function\n",
    "def sigmoid(x):\n",
    "\treturn 1.0 / (1.0 + np.exp(-x))\n",
    "\n",
    "def reward_speed(x, a,b):\n",
    "    return sigmoid(x/a - b)\n",
    "\n",
    "# define input data\n",
    "inputs = [x for x in range(0, 60)]\n"
   ]
  },
  {
   "cell_type": "code",
   "execution_count": 2,
   "id": "4b3a1d8d",
   "metadata": {},
   "outputs": [],
   "source": [
    "from scipy.optimize import curve_fit"
   ]
  },
  {
   "cell_type": "code",
   "execution_count": 3,
   "id": "ade4bfe6",
   "metadata": {},
   "outputs": [],
   "source": [
    "import numpy as np\n",
    "x_data = np.array([0, 10, 20, 30, 40]) \n",
    "y_data = np.array([0, .2, .5, .7 , 1])"
   ]
  },
  {
   "cell_type": "code",
   "execution_count": 4,
   "id": "f9031ce2",
   "metadata": {},
   "outputs": [],
   "source": [
    "popt, pcov = curve_fit(reward_speed, x_data, y_data)"
   ]
  },
  {
   "cell_type": "code",
   "execution_count": 5,
   "id": "6e2b64f3",
   "metadata": {},
   "outputs": [
    {
     "data": {
      "text/plain": [
       "array([7.38436832, 2.84404085])"
      ]
     },
     "execution_count": 5,
     "metadata": {},
     "output_type": "execute_result"
    }
   ],
   "source": [
    "popt"
   ]
  },
  {
   "cell_type": "code",
   "execution_count": 6,
   "id": "a245bf51",
   "metadata": {},
   "outputs": [
    {
     "data": {
      "text/plain": [
       "7.384368319651396"
      ]
     },
     "execution_count": 6,
     "metadata": {},
     "output_type": "execute_result"
    }
   ],
   "source": [
    "popt[0]"
   ]
  },
  {
   "cell_type": "markdown",
   "id": "52c07304",
   "metadata": {},
   "source": [
    "### Reward for Speed"
   ]
  },
  {
   "cell_type": "code",
   "execution_count": 7,
   "id": "4731f0b4",
   "metadata": {},
   "outputs": [
    {
     "data": {
      "text/plain": [
       "[<matplotlib.lines.Line2D at 0x12956b13f70>]"
      ]
     },
     "execution_count": 7,
     "metadata": {},
     "output_type": "execute_result"
    },
    {
     "data": {
      "image/png": "[encoded data removed]",
      "text/plain": [
       "<Figure size 432x288 with 1 Axes>"
      ]
     },
     "metadata": {
      "needs_background": "light"
     },
     "output_type": "display_data"
    }
   ],
   "source": [
    "y = reward_speed(inputs, popt[0], popt[1])\n",
    "y\n",
    "pyplot.plot(inputs,y)"
   ]
  },
  {
   "cell_type": "code",
   "execution_count": 8,
   "id": "08c44f0d",
   "metadata": {},
   "outputs": [],
   "source": [
    "def distance_factor(x, a,b):\n",
    "    return sigmoid(x/-a - b)"
   ]
  },
  {
   "cell_type": "code",
   "execution_count": 9,
   "id": "1140f672",
   "metadata": {},
   "outputs": [],
   "source": [
    "factors = np.array([1,1])"
   ]
  },
  {
   "cell_type": "code",
   "execution_count": 10,
   "id": "4971fa21",
   "metadata": {},
   "outputs": [],
   "source": [
    "x_data = np.array([0, 10, 20, 100, 200,400,600, 1000]) \n",
    "y_data = np.array([1, .999, .99, .9 , .9,0.7,0.5, 0])"
   ]
  },
  {
   "cell_type": "code",
   "execution_count": 11,
   "id": "1c78aae7",
   "metadata": {},
   "outputs": [
    {
     "name": "stderr",
     "output_type": "stream",
     "text": [
      "C:\\Users\\syedm\\AppData\\Local\\Temp\\ipykernel_22428\\546403709.py:6: RuntimeWarning: overflow encountered in exp\n",
      "  return 1.0 / (1.0 + np.exp(-x))\n"
     ]
    }
   ],
   "source": [
    "popt, pcov = curve_fit(distance_factor, x_data, y_data)"
   ]
  },
  {
   "cell_type": "code",
   "execution_count": null,
   "id": "29aa91fb",
   "metadata": {},
   "outputs": [],
   "source": []
  },
  {
   "cell_type": "code",
   "execution_count": 12,
   "id": "6002d01f",
   "metadata": {
    "scrolled": true
   },
   "outputs": [
    {
     "data": {
      "text/plain": [
       "array([161.35778141,  -3.52216987])"
      ]
     },
     "execution_count": 12,
     "metadata": {},
     "output_type": "execute_result"
    }
   ],
   "source": [
    "popt"
   ]
  },
  {
   "cell_type": "markdown",
   "id": "ed58346c",
   "metadata": {},
   "source": [
    "### Reward for Speed - Distance factor"
   ]
  },
  {
   "cell_type": "code",
   "execution_count": 13,
   "id": "99c81db2",
   "metadata": {},
   "outputs": [
    {
     "data": {
      "text/plain": [
       "[<matplotlib.lines.Line2D at 0x12956c1c550>]"
      ]
     },
     "execution_count": 13,
     "metadata": {},
     "output_type": "execute_result"
    },
    {
     "data": {
      "image/png": "[encoded data removed]",
      "text/plain": [
       "<Figure size 432x288 with 1 Axes>"
      ]
     },
     "metadata": {
      "needs_background": "light"
     },
     "output_type": "display_data"
    }
   ],
   "source": [
    "inputs = [x for x in range(0, 1000)]\n",
    "y =distance_factor(inputs,popt[0], popt[1])\n",
    "pyplot.plot(inputs,y)"
   ]
  },
  {
   "cell_type": "markdown",
   "id": "bded5374",
   "metadata": {},
   "source": [
    "### Reward for Waiting Time"
   ]
  },
  {
   "cell_type": "code",
   "execution_count": 14,
   "id": "5dece112",
   "metadata": {},
   "outputs": [
    {
     "data": {
      "text/plain": [
       "array([161.35778141,  -3.52216987])"
      ]
     },
     "execution_count": 14,
     "metadata": {},
     "output_type": "execute_result"
    }
   ],
   "source": [
    "popt"
   ]
  },
  {
   "cell_type": "code",
   "execution_count": 15,
   "id": "bf721285",
   "metadata": {},
   "outputs": [
    {
     "data": {
      "text/plain": [
       "array([161.35778141,  -3.52216987])"
      ]
     },
     "execution_count": 15,
     "metadata": {},
     "output_type": "execute_result"
    }
   ],
   "source": [
    "popt"
   ]
  },
  {
   "cell_type": "code",
   "execution_count": 16,
   "id": "25651d3e",
   "metadata": {
    "scrolled": true
   },
   "outputs": [
    {
     "data": {
      "text/plain": [
       "[<matplotlib.lines.Line2D at 0x12956c7bf70>]"
      ]
     },
     "execution_count": 16,
     "metadata": {},
     "output_type": "execute_result"
    },
    {
     "data": {
      "image/png": "[encoded data removed]",
      "text/plain": [
       "<Figure size 432x288 with 1 Axes>"
      ]
     },
     "metadata": {
      "needs_background": "light"
     },
     "output_type": "display_data"
    }
   ],
   "source": [
    "from math import tanh\n",
    "\n",
    "def waiting_time(x):\n",
    "    \n",
    "    return x/60 \n",
    "\n",
    "\n",
    "x_data = np.array([0,20,60,120 , 240, 360]) \n",
    "y_data = np.array([0,0.1, .5, 1, 1, 1])\n",
    "\n",
    "# popt, pcov = curve_fit(waiting_time, x_data, y_data)\n",
    "\n",
    "inputs = np.array([x for x in range(0, 300)])\n",
    "y = waiting_time(inputs)\n",
    "pyplot.plot(inputs,y)"
   ]
  },
  {
   "cell_type": "code",
   "execution_count": 17,
   "id": "fc117752",
   "metadata": {},
   "outputs": [
    {
     "ename": "IndexError",
     "evalue": "index 2 is out of bounds for axis 0 with size 2",
     "output_type": "error",
     "traceback": [
      "\u001b[1;31m---------------------------------------------------------------------------\u001b[0m",
      "\u001b[1;31mIndexError\u001b[0m                                Traceback (most recent call last)",
      "Input \u001b[1;32mIn [17]\u001b[0m, in \u001b[0;36m<module>\u001b[1;34m\u001b[0m\n\u001b[0;32m      1\u001b[0m test \u001b[38;5;241m=\u001b[39m np\u001b[38;5;241m.\u001b[39marray([\u001b[38;5;241m0\u001b[39m,\u001b[38;5;241m30\u001b[39m, \u001b[38;5;241m60\u001b[39m,\u001b[38;5;241m120\u001b[39m,\u001b[38;5;241m240\u001b[39m,\u001b[38;5;241m600\u001b[39m])\n\u001b[1;32m----> 2\u001b[0m waiting_time(test,popt[\u001b[38;5;241m0\u001b[39m], popt[\u001b[38;5;241m1\u001b[39m], \u001b[43mpopt\u001b[49m\u001b[43m[\u001b[49m\u001b[38;5;241;43m2\u001b[39;49m\u001b[43m]\u001b[49m,  popt[\u001b[38;5;241m3\u001b[39m])\n",
      "\u001b[1;31mIndexError\u001b[0m: index 2 is out of bounds for axis 0 with size 2"
     ]
    }
   ],
   "source": [
    "test = np.array([0,30, 60,120,240,600])\n",
    "waiting_time(test,popt[0], popt[1], popt[2],  popt[3])"
   ]
  },
  {
   "cell_type": "code",
   "execution_count": 18,
   "id": "dfab2b39",
   "metadata": {},
   "outputs": [
    {
     "ename": "IndexError",
     "evalue": "index 2 is out of bounds for axis 0 with size 2",
     "output_type": "error",
     "traceback": [
      "\u001b[1;31m---------------------------------------------------------------------------\u001b[0m",
      "\u001b[1;31mIndexError\u001b[0m                                Traceback (most recent call last)",
      "Input \u001b[1;32mIn [18]\u001b[0m, in \u001b[0;36m<module>\u001b[1;34m\u001b[0m\n\u001b[1;32m----> 1\u001b[0m waiting_time(x_data, popt[\u001b[38;5;241m0\u001b[39m], popt[\u001b[38;5;241m1\u001b[39m], \u001b[43mpopt\u001b[49m\u001b[43m[\u001b[49m\u001b[38;5;241;43m2\u001b[39;49m\u001b[43m]\u001b[49m,  popt[\u001b[38;5;241m3\u001b[39m])\n",
      "\u001b[1;31mIndexError\u001b[0m: index 2 is out of bounds for axis 0 with size 2"
     ]
    }
   ],
   "source": [
    "\n",
    "waiting_time(x_data, popt[0], popt[1], popt[2],  popt[3])"
   ]
  },
  {
   "cell_type": "code",
   "execution_count": 20,
   "id": "89320f73",
   "metadata": {},
   "outputs": [
    {
     "data": {
      "text/plain": [
       "[<matplotlib.lines.Line2D at 0x12957826880>]"
      ]
     },
     "execution_count": 20,
     "metadata": {},
     "output_type": "execute_result"
    },
    {
     "data": {
      "image/png": "[encoded data removed]",
      "text/plain": [
       "<Figure size 432x288 with 1 Axes>"
      ]
     },
     "metadata": {
      "needs_background": "light"
     },
     "output_type": "display_data"
    }
   ],
   "source": [
    "y = [33858.83878553402, 33561.282902544386, 30978.71461202442, 33603.1850476977, 34491.73314559227, 35442.988835672666, 36137.847766218, 35138.617752335085, 35061.566755239626, 35160.91345235757, 36226.63558005963, 36643.5580229944, 36457.53831303594, 36719.84219265192, 35187.06249851366, 35290.68353507168, 7500.311732818166, 704.8581666814449, 3616.7833667389127, 8816.228326838433, 3799.654940545927, 6337.643279650879, 33424.02155345789, 34469.44796580795, 34728.59726459913, 34112.99544209548, 34422.45124868425, 34312.60441082861, 34634.447208198486, 34649.35559777504, 33756.437939530944, 34686.73977194232, 35038.01996914348, 34552.45737085836, 34894.3800346889, 35328.72232042259, 36031.926433978646, 35265.67057510005, 36831.133190326815, 35119.684101919294, 35301.83002916964, 35956.52558143265, 35389.402700963394, 35002.07200378066, 35583.62057333557, 35439.289992776765, 32415.39188892846, 31413.822663681985, 31979.084983307726, 32190.373985868122, 31813.304479366827, 33154.90149439239, 34305.528205307426, 32900.58336442505, 33598.698310088424, 32563.29181301016, 33335.233514417894, 34226.61321104495, 35882.79215404962, 35429.47349948308, 36046.789187125374, 35114.75489993201, 35438.18694799375, 35442.50299922689, 34043.106897757076, 34230.36207228535, 35724.18985981847, 33930.937445687334, 33005.18465719723, 34792.08300802376, 34516.44129843186, 33118.97988953437, 34590.550770419206, 34239.604290336676, 34152.81118111376, 35798.80300271252, 33454.22175313151, 33588.35340299448, 34939.31579126396, 33459.20285895457, 34818.37242928957, 34170.085602018444, 35957.53825601841, 35683.44917046057, 36369.678147234474, 35628.55355495401, 36175.01557916977, 34974.88071860125, 34013.91936986169, 32955.26353288564, 33395.05673615998, 33917.26224436719, 33862.22710375799, 34214.714648487374, 35398.46320647256, 34536.16776280282, 34724.360102909195, 36790.42074853621, 36533.52796168757, 34012.845559788904]\n",
    "y= np.array(y)\n",
    "\n",
    "x = np.array([y for y in range(0, len(y))]) *580\n",
    "pyplot.plot(x,y)"
   ]
  },
  {
   "cell_type": "code",
   "execution_count": 7,
   "id": "0fd051a9",
   "metadata": {},
   "outputs": [],
   "source": [
    "J = {\"J1\": [\"W1_0\", \"W1_1\", \"W1_2\", \"W1_3\", \"SJ1_0\", \"SJ1_1\", \"SJ1_2\", \"E2_0\", \"E2_1\", \"E2_2\", \"E2_3\", \"NJ1_0\", \"NJ1_1\", \"NJ1_2\"], \"J2\": [\"NJ2_0\", \"NJ2_1\", \"NJ2_2\", \"W2_0\", \"W2_1\", \"W2_2\", \"W2_3\", \"SJ2_0\", \"SJ2_1\", \"E3_0\", \"E3_1\", \"E3_2\", \"E3_3\"], \"J3\": [\"W3_0\", \"W3_1\", \"W3_2\", \"W3_3\", \"SJ3_0\", \"E4_0\", \"E4_1\", \"E4_2\", \"E4_3\", \"NJ3_0\", \"NJ3_1\"], \"J4\": [\"W4_0\", \"W4_1\", \"W4_2\", \n",
    "\"W4_3\", \"SJ4_0\", \"SJ4_1\", \"SJ4_2\", \"SJ4_3\", \"E5_0\", \"E5_1\", \"E5_2\", \"E5_3\", \"NJ4_0\", \"NJ4_1\", \"NJ4_2\", \"NJ4_3\", \"NJ4_4\"], \"J5\": [\"W5_0\", \"W5_1\", \"W5_2\", \"W5_3\", \"SJ5_0\", \"SJ5_1\", \"E6_0\", \"E6_1\", \"E6_2\", \"E6_3\", \"NJ5_0\", \"NJ5_1\"]}"
   ]
  },
  {
   "cell_type": "code",
   "execution_count": 36,
   "id": "abd07383",
   "metadata": {},
   "outputs": [],
   "source": [
    "arr = []\n",
    "for j in J:\n",
    "    for l in J[j]:\n",
    "        arr.append([j,l])\n",
    "df = pd.DataFrame(arr)"
   ]
  },
  {
   "cell_type": "code",
   "execution_count": 38,
   "id": "bca92019",
   "metadata": {},
   "outputs": [],
   "source": [
    "df.to_csv('jun.csv')\n"
   ]
  }
 ],
 "metadata": {
  "kernelspec": {
   "display_name": "Python 3 (ipykernel)",
   "language": "python",
   "name": "python3"
  },
  "language_info": {
   "codemirror_mode": {
    "name": "ipython",
    "version": 3
   },
   "file_extension": ".py",
   "mimetype": "text/x-python",
   "name": "python",
   "nbconvert_exporter": "python",
   "pygments_lexer": "ipython3",
   "version": "3.8.12"
  }
 },
 "nbformat": 4,
 "nbformat_minor": 5
}
